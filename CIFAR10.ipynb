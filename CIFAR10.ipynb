{
 "cells": [
  {
   "cell_type": "code",
   "execution_count": null,
   "id": "ffdf74d0-e495-4814-b05e-68738356f355",
   "metadata": {},
   "outputs": [],
   "source": [
    "# SIMPLE IMAGE CLASSIFICATION USING CNN\n",
    "# Dataset - CIFAR10\n",
    "# #classes - 10"
   ]
  },
  {
   "cell_type": "code",
   "execution_count": 5,
   "id": "aac01044-c9ce-4472-aff4-9198e4d090cf",
   "metadata": {},
   "outputs": [],
   "source": [
    "# Import Libraries\n",
    "import tensorflow as tf\n",
    "from tensorflow.keras import datasets, layers, models\n",
    "import matplotlib.pyplot as plt\n",
    "%matplotlib inline\n",
    "import numpy as np\n",
    "from sklearn.metrics import confusion_matrix, classification_report"
   ]
  },
  {
   "cell_type": "code",
   "execution_count": 30,
   "id": "bca95f64-aa39-491e-a29c-dddf0cdeac90",
   "metadata": {},
   "outputs": [],
   "source": [
    "# Load CIFAR10 dataset\n",
    "(x_train, y_train), (x_test, y_test) = datasets.cifar10.load_data()"
   ]
  },
  {
   "cell_type": "code",
   "execution_count": 31,
   "id": "830b690d-26aa-4a78-8e66-3faf2d4cca6a",
   "metadata": {},
   "outputs": [],
   "source": [
    "class_labels = ['airplane', 'automobile', 'bird', 'cat', 'deer', 'dog', 'frog', 'horse', 'ship', 'truck']"
   ]
  },
  {
   "cell_type": "code",
   "execution_count": 32,
   "id": "ee55d559-420e-466b-aeee-fd11088abb9a",
   "metadata": {},
   "outputs": [],
   "source": [
    "y_train = y_train.reshape(-1,)\n",
    "y_test = y_test.reshape(-1,)"
   ]
  },
  {
   "cell_type": "code",
   "execution_count": 11,
   "id": "1a1c53c4-7479-4b7e-b8b9-93bc13ce18af",
   "metadata": {},
   "outputs": [
    {
     "data": {
      "text/plain": [
       "<matplotlib.image.AxesImage at 0x1e050cf38b0>"
      ]
     },
     "execution_count": 11,
     "metadata": {},
     "output_type": "execute_result"
    },
    {
     "data": {
      "image/png": "[encoded data removed]",
      "text/plain": [
       "<Figure size 720x360 with 1 Axes>"
      ]
     },
     "metadata": {
      "needs_background": "light"
     },
     "output_type": "display_data"
    }
   ],
   "source": [
    "plt.figure(figsize=(10,5))\n",
    "plt.imshow(x_train[4])"
   ]
  },
  {
   "cell_type": "code",
   "execution_count": 33,
   "id": "c35393dd-dd2d-4117-9ef8-f91279dc89eb",
   "metadata": {},
   "outputs": [],
   "source": [
    "#Normalize the RGB values\n",
    "x_train = x_train/255.0\n",
    "x_test = x_test/255.0"
   ]
  },
  {
   "cell_type": "code",
   "execution_count": 60,
   "id": "f29af920-31f4-40f7-b9af-6530568d0b62",
   "metadata": {},
   "outputs": [],
   "source": [
    "#Using CNN\n",
    "cnn = models.Sequential([\n",
    "    # Convolution layer\n",
    "    layers.Conv2D(filters=32, kernel_size=(3,3), activation='relu', input_shape=(32,32,3)),\n",
    "    layers.MaxPool2D((2,2)),\n",
    "    layers.Conv2D(filters=32, kernel_size=(3,3), activation='relu'),\n",
    "    layers.MaxPool2D((2,2)),\n",
    "    # fully connected layer\n",
    "    layers.Flatten(),\n",
    "    layers.Dense(64, activation='relu'),\n",
    "    layers.Dense(10, activation='softmax')])"
   ]
  },
  {
   "cell_type": "code",
   "execution_count": 61,
   "id": "273ed1f4-1113-4817-a9a6-e0b29d4ad8e1",
   "metadata": {},
   "outputs": [],
   "source": [
    "cnn.compile(optimizer='adam', loss='sparse_categorical_crossentropy', metrics=['accuracy'])"
   ]
  },
  {
   "cell_type": "code",
   "execution_count": null,
   "id": "c23f1566-208c-4b2d-a349-c66b7d98ac01",
   "metadata": {},
   "outputs": [
    {
     "name": "stdout",
     "output_type": "stream",
     "text": [
      "Epoch 1/15\n",
      "1563/1563 [==============================] - 17s 11ms/step - loss: 0.6902 - accuracy: 0.7591\n",
      "Epoch 2/15\n",
      "1563/1563 [==============================] - 18s 11ms/step - loss: 0.6662 - accuracy: 0.7663\n",
      "Epoch 3/15\n",
      "1563/1563 [==============================] - 20s 13ms/step - loss: 0.6393 - accuracy: 0.7763\n",
      "Epoch 4/15\n",
      "1563/1563 [==============================] - 19s 12ms/step - loss: 0.6190 - accuracy: 0.7831\n",
      "Epoch 5/15\n",
      "1563/1563 [==============================] - 19s 12ms/step - loss: 0.5977 - accuracy: 0.7898\n",
      "Epoch 6/15\n",
      "1563/1563 [==============================] - 19s 12ms/step - loss: 0.5740 - accuracy: 0.7966\n",
      "Epoch 7/15\n",
      "1563/1563 [==============================] - 19s 12ms/step - loss: 0.5523 - accuracy: 0.8060\n",
      "Epoch 8/15\n",
      "1563/1563 [==============================] - 19s 12ms/step - loss: 0.5367 - accuracy: 0.8113\n",
      "Epoch 9/15\n",
      "1314/1563 [========================>.....] - ETA: 3s - loss: 0.5112 - accuracy: 0.8192"
     ]
    }
   ],
   "source": [
    "cnn.fit(x_train, y_train, epochs=15)"
   ]
  },
  {
   "cell_type": "code",
   "execution_count": 63,
   "id": "c6390036-e08e-45e9-bba8-e2598e15d660",
   "metadata": {},
   "outputs": [],
   "source": [
    "y_predict = cnn.predict(x_test)"
   ]
  },
  {
   "cell_type": "code",
   "execution_count": 65,
   "id": "f7cc17bb-22e4-4b74-8a54-6818eae37b46",
   "metadata": {},
   "outputs": [],
   "source": [
    "y_predict_label = [np.argmax(y) for y in y_predict]"
   ]
  },
  {
   "cell_type": "code",
   "execution_count": 66,
   "id": "907db0d3-0321-43ad-8ab9-76698bd67a2d",
   "metadata": {},
   "outputs": [
    {
     "name": "stdout",
     "output_type": "stream",
     "text": [
      "\n",
      " CLASSIFICATION REPORT\n",
      "               precision    recall  f1-score   support\n",
      "\n",
      "           0       0.74      0.71      0.72      1000\n",
      "           1       0.85      0.77      0.81      1000\n",
      "           2       0.53      0.61      0.57      1000\n",
      "           3       0.56      0.43      0.48      1000\n",
      "           4       0.64      0.63      0.64      1000\n",
      "           5       0.55      0.63      0.59      1000\n",
      "           6       0.71      0.81      0.76      1000\n",
      "           7       0.77      0.69      0.72      1000\n",
      "           8       0.76      0.83      0.79      1000\n",
      "           9       0.78      0.75      0.77      1000\n",
      "\n",
      "    accuracy                           0.69     10000\n",
      "   macro avg       0.69      0.69      0.69     10000\n",
      "weighted avg       0.69      0.69      0.69     10000\n",
      "\n"
     ]
    }
   ],
   "source": [
    "print('\\n CLASSIFICATION REPORT\\n', classification_report(y_test, y_predict_label))"
   ]
  }
 ],
 "metadata": {
  "kernelspec": {
   "display_name": "Python 3",
   "language": "python",
   "name": "python3"
  },
  "language_info": {
   "codemirror_mode": {
    "name": "ipython",
    "version": 3
   },
   "file_extension": ".py",
   "mimetype": "text/x-python",
   "name": "python",
   "nbconvert_exporter": "python",
   "pygments_lexer": "ipython3",
   "version": "3.8.8"
  }
 },
 "nbformat": 4,
 "nbformat_minor": 5
}
